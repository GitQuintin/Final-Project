{
 "cells": [
  {
   "cell_type": "markdown",
   "metadata": {},
   "source": [
    "### Strategy for getting a flush in a game of draw poker from a \"small flush\""
   ]
  },
  {
   "cell_type": "code",
   "execution_count": 1,
   "metadata": {},
   "outputs": [],
   "source": [
    "include(\"PlayingCards.jl\")\n",
    "using .PlayingCards, Combinatorics, Statistics"
   ]
  },
  {
   "cell_type": "code",
   "execution_count": 2,
   "metadata": {},
   "outputs": [
    {
     "data": {
      "text/plain": [
       "2598960"
      ]
     },
     "metadata": {},
     "output_type": "display_data"
    }
   ],
   "source": [
    "count = 0\n",
    "for comb in combinations(1:52, 5)\n",
    "  #@show Hand([Card(c) for c in comb])\n",
    "\n",
    "  count += 1\n",
    "  #count >= 100 && break\n",
    "end\n",
    "count"
   ]
  },
  {
   "cell_type": "code",
   "execution_count": 3,
   "metadata": {},
   "outputs": [
    {
     "data": {
      "text/plain": [
       "5108"
      ]
     },
     "metadata": {},
     "output_type": "display_data"
    }
   ],
   "source": [
    "count = 0\n",
    "for comb in combinations(1:52, 5)\n",
    "    #@show Hand([Card(c) for c in comb])\n",
    "    if isFlush(Hand([Card(c) for c in comb]))\n",
    "        count += 1\n",
    "    end\n",
    "end\n",
    "count"
   ]
  },
  {
   "cell_type": "code",
   "execution_count": 13,
   "metadata": {},
   "outputs": [
    {
     "data": {
      "text/plain": [
       "0.1965401545233478"
      ]
     },
     "metadata": {},
     "output_type": "display_data"
    }
   ],
   "source": [
    "5108/2598960 *100"
   ]
  },
  {
   "cell_type": "code",
   "execution_count": 4,
   "metadata": {},
   "outputs": [
    {
     "data": {
      "text/plain": [
       "111540-element Vector{Any}:\n",
       " Card[A♠, 2♠, 3♠, 4♠, A♡]\n",
       " Card[A♠, 2♠, 3♠, 4♠, 2♡]\n",
       " Card[A♠, 2♠, 3♠, 4♠, 3♡]\n",
       " Card[A♠, 2♠, 3♠, 4♠, 4♡]\n",
       " Card[A♠, 2♠, 3♠, 4♠, 5♡]\n",
       " Card[A♠, 2♠, 3♠, 4♠, 6♡]\n",
       " Card[A♠, 2♠, 3♠, 4♠, 7♡]\n",
       " Card[A♠, 2♠, 3♠, 4♠, 8♡]\n",
       " Card[A♠, 2♠, 3♠, 4♠, 9♡]\n",
       " Card[A♠, 2♠, 3♠, 4♠, T♡]\n",
       " ⋮\n",
       " Card[K♢, 8♣, T♣, J♣, Q♣]\n",
       " Card[K♢, 8♣, T♣, J♣, K♣]\n",
       " Card[K♢, 8♣, T♣, Q♣, K♣]\n",
       " Card[K♢, 8♣, J♣, Q♣, K♣]\n",
       " Card[K♢, 9♣, T♣, J♣, Q♣]\n",
       " Card[K♢, 9♣, T♣, J♣, K♣]\n",
       " Card[K♢, 9♣, T♣, Q♣, K♣]\n",
       " Card[K♢, 9♣, J♣, Q♣, K♣]\n",
       " Card[K♢, T♣, J♣, Q♣, K♣]"
      ]
     },
     "metadata": {},
     "output_type": "display_data"
    }
   ],
   "source": [
    "SmallFlushHands = []\n",
    "for comb in combinations(1:52, 5)\n",
    "    #@show Hand([Card(c) for c in comb])\n",
    "    h = [Card(c) for c in comb]\n",
    "    if isSmallFlush(Hand(h))\n",
    "        push!(SmallFlushHands, h)\n",
    "    end\n",
    "end\n",
    "SmallFlushHands"
   ]
  },
  {
   "cell_type": "code",
   "execution_count": 5,
   "metadata": {},
   "outputs": [
    {
     "data": {
      "text/plain": [
       "111540-element Vector{Any}:\n",
       " [A♠,2♠,3♠,4♠,A♡]\n",
       " [A♠,2♠,3♠,4♠,2♡]\n",
       " [A♠,2♠,3♠,4♠,3♡]\n",
       " [A♠,2♠,3♠,4♠,4♡]\n",
       " [A♠,2♠,3♠,4♠,5♡]\n",
       " [A♠,2♠,3♠,4♠,6♡]\n",
       " [A♠,2♠,3♠,4♠,7♡]\n",
       " [A♠,2♠,3♠,4♠,8♡]\n",
       " [A♠,2♠,3♠,4♠,9♡]\n",
       " [A♠,2♠,3♠,4♠,T♡]\n",
       " ⋮\n",
       " [8♣,T♣,J♣,Q♣,K♢]\n",
       " [8♣,T♣,J♣,K♣,K♢]\n",
       " [8♣,T♣,Q♣,K♣,K♢]\n",
       " [8♣,J♣,Q♣,K♣,K♢]\n",
       " [9♣,T♣,J♣,Q♣,K♢]\n",
       " [9♣,T♣,J♣,K♣,K♢]\n",
       " [9♣,T♣,Q♣,K♣,K♢]\n",
       " [9♣,J♣,Q♣,K♣,K♢]\n",
       " [T♣,J♣,Q♣,K♣,K♢]"
      ]
     },
     "metadata": {},
     "output_type": "display_data"
    }
   ],
   "source": [
    "Reordered = []\n",
    "i = 0\n",
    "for i in 1:length(SmallFlushHands)\n",
    "    local x = ReorderSmallFlush(Hand(SmallFlushHands[i]))\n",
    "    push!(Reordered, x)\n",
    "end\n",
    "Reordered"
   ]
  },
  {
   "cell_type": "code",
   "execution_count": 15,
   "metadata": {},
   "outputs": [
    {
     "data": {
      "text/plain": [
       "4.29171668667467"
      ]
     },
     "metadata": {},
     "output_type": "display_data"
    }
   ],
   "source": [
    "111540/2598960 *100"
   ]
  },
  {
   "cell_type": "code",
   "execution_count": 6,
   "metadata": {},
   "outputs": [
    {
     "data": {
      "text/plain": [
       "47-element Vector{Any}:\n",
       " Card[A♠, 2♠, 3♠, 4♠, 5♠]\n",
       " Card[A♠, 2♠, 3♠, 4♠, 6♠]\n",
       " Card[A♠, 2♠, 3♠, 4♠, 7♠]\n",
       " Card[A♠, 2♠, 3♠, 4♠, 8♠]\n",
       " Card[A♠, 2♠, 3♠, 4♠, 9♠]\n",
       " Card[A♠, 2♠, 3♠, 4♠, T♠]\n",
       " Card[A♠, 2♠, 3♠, 4♠, J♠]\n",
       " Card[A♠, 2♠, 3♠, 4♠, Q♠]\n",
       " Card[A♠, 2♠, 3♠, 4♠, K♠]\n",
       " Card[A♠, 2♠, 3♠, 4♠, 2♡]\n",
       " ⋮\n",
       " Card[A♠, 2♠, 3♠, 4♠, 5♣]\n",
       " Card[A♠, 2♠, 3♠, 4♠, 6♣]\n",
       " Card[A♠, 2♠, 3♠, 4♠, 7♣]\n",
       " Card[A♠, 2♠, 3♠, 4♠, 8♣]\n",
       " Card[A♠, 2♠, 3♠, 4♠, 9♣]\n",
       " Card[A♠, 2♠, 3♠, 4♠, T♣]\n",
       " Card[A♠, 2♠, 3♠, 4♠, J♣]\n",
       " Card[A♠, 2♠, 3♠, 4♠, Q♣]\n",
       " Card[A♠, 2♠, 3♠, 4♠, K♣]"
      ]
     },
     "metadata": {},
     "output_type": "display_data"
    }
   ],
   "source": [
    "DrawingCard = []\n",
    "h = Reordered[1]\n",
    "count = 0\n",
    "for comb in combinations(1:52, 1)\n",
    "   Hand([Card(c) for c in comb])\n",
    "  c = [Card(c) for c in comb]\n",
    "  v = vcat(h.cards, c)\n",
    "  if length(unique(v)) == 6 #takes out any of the repeated cards already in the hand\n",
    "    deleteat!(v,5) #discard step. Done after checking length and unique check to ensure it doesn't get drawn again\n",
    "    push!(DrawingCard, v)\n",
    "  end\n",
    "end\n",
    "DrawingCard"
   ]
  },
  {
   "cell_type": "code",
   "execution_count": 7,
   "metadata": {},
   "outputs": [
    {
     "data": {
      "text/plain": [
       "8"
      ]
     },
     "metadata": {},
     "output_type": "display_data"
    }
   ],
   "source": [
    "count = 0\n",
    "for i in 1:length(DrawingCard)\n",
    "    if isFlush(Hand(DrawingCard[i]))\n",
    "        count += 1\n",
    "    end\n",
    "end\n",
    "count"
   ]
  },
  {
   "cell_type": "code",
   "execution_count": 8,
   "metadata": {},
   "outputs": [
    {
     "data": {
      "text/plain": [
       "111540-element Vector{Any}:\n",
       " 8\n",
       " 8\n",
       " 8\n",
       " 8\n",
       " 8\n",
       " 8\n",
       " 8\n",
       " 8\n",
       " 8\n",
       " 8\n",
       " ⋮\n",
       " 8\n",
       " 9\n",
       " 9\n",
       " 9\n",
       " 7\n",
       " 8\n",
       " 8\n",
       " 8\n",
       " 7"
      ]
     },
     "metadata": {},
     "output_type": "display_data"
    }
   ],
   "source": [
    "i = 0\n",
    "count = 0\n",
    "counts = []\n",
    "for i in 1:length(Reordered)\n",
    "    h = Reordered[i]\n",
    "    for comb in combinations(1:52, 1)\n",
    "    c = [Card(c) for c in comb]\n",
    "    v = vcat(h.cards, c)\n",
    "    if length(unique(v)) == 6 #takes out any of the repeated cards already in the hand\n",
    "        deleteat!(v,5) #discard step. Done after checking length and unique check to ensure it doesn't get drawn again\n",
    "        if isFlush(Hand(v))\n",
    "            count += 1\n",
    "        end\n",
    "    end\n",
    "    end\n",
    "    push!(counts, count)\n",
    "    count = 0\n",
    "end\n",
    "#count\n",
    "counts"
   ]
  },
  {
   "cell_type": "code",
   "execution_count": 9,
   "metadata": {},
   "outputs": [
    {
     "data": {
      "text/plain": [
       "3-element Vector{Any}:\n",
       " 8\n",
       " 9\n",
       " 7"
      ]
     },
     "metadata": {},
     "output_type": "display_data"
    }
   ],
   "source": [
    "unique(counts)"
   ]
  },
  {
   "cell_type": "code",
   "execution_count": 16,
   "metadata": {},
   "outputs": [
    {
     "data": {
      "text/plain": [
       "3-element Vector{Float64}:\n",
       " 17.02127659574468\n",
       " 19.148936170212767\n",
       " 14.893617021276595"
      ]
     },
     "metadata": {},
     "output_type": "display_data"
    }
   ],
   "source": [
    "prob = map(x-> x/47 *100, counts)\n",
    "unique(prob)"
   ]
  },
  {
   "cell_type": "code",
   "execution_count": 11,
   "metadata": {},
   "outputs": [
    {
     "data": {
      "text/plain": [
       "19.000148787382855"
      ]
     },
     "metadata": {},
     "output_type": "display_data"
    }
   ],
   "source": [
    "mean(prob) *100"
   ]
  }
 ],
 "metadata": {
  "kernelspec": {
   "display_name": "Julia 1.10.5",
   "language": "julia",
   "name": "julia-1.10"
  },
  "language_info": {
   "file_extension": ".jl",
   "mimetype": "application/julia",
   "name": "julia",
   "version": "1.10.5"
  }
 },
 "nbformat": 4,
 "nbformat_minor": 2
}
