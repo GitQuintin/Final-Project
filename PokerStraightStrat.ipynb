{
 "cells": [
  {
   "cell_type": "markdown",
   "metadata": {},
   "source": [
    "### Strategy for getting a straight in a game of draw poker"
   ]
  },
  {
   "cell_type": "code",
   "execution_count": 1,
   "metadata": {},
   "outputs": [],
   "source": [
    "include(\"PlayingCards.jl\")\n",
    "using .PlayingCards, Combinatorics, Statistics"
   ]
  },
  {
   "cell_type": "markdown",
   "metadata": {},
   "source": [
    "Goes through all possible combinations of hand size 5 (Provided by Dr. Staab)"
   ]
  },
  {
   "cell_type": "code",
   "execution_count": 2,
   "metadata": {},
   "outputs": [
    {
     "data": {
      "text/plain": [
       "2598960"
      ]
     },
     "metadata": {},
     "output_type": "display_data"
    }
   ],
   "source": [
    "count = 0\n",
    "for comb in combinations(1:52, 5)\n",
    "  #@show Hand([Card(c) for c in comb])\n",
    "\n",
    "  count += 1\n",
    "  #count >= 100 && break\n",
    "end\n",
    "count"
   ]
  },
  {
   "cell_type": "markdown",
   "metadata": {},
   "source": [
    "Finds all possible Straight Hands (excluding Straight Flush and Royal Flush)\n",
    "\n",
    "If we were playing draw poker, you would be given this hand on the first round"
   ]
  },
  {
   "cell_type": "code",
   "execution_count": 3,
   "metadata": {},
   "outputs": [
    {
     "data": {
      "text/plain": [
       "10200"
      ]
     },
     "metadata": {},
     "output_type": "display_data"
    }
   ],
   "source": [
    "using Combinatorics\n",
    "\n",
    "count = 0\n",
    "for comb in combinations(1:52, 5)\n",
    "    #@show Hand([Card(c) for c in comb])\n",
    "    if isStraight(Hand([Card(c) for c in comb]))\n",
    "        count += 1\n",
    "    end\n",
    "end\n",
    "count"
   ]
  },
  {
   "cell_type": "markdown",
   "metadata": {},
   "source": [
    "First we will find all the Small Straight (4 in a row) hands that could lead into Straights:"
   ]
  },
  {
   "cell_type": "code",
   "execution_count": 4,
   "metadata": {},
   "outputs": [
    {
     "data": {
      "text/plain": [
       "97792-element Vector{Any}:\n",
       " Card[A♠, 2♠, 3♠, 4♠, 6♠]\n",
       " Card[A♠, 2♠, 3♠, 4♠, 7♠]\n",
       " Card[A♠, 2♠, 3♠, 4♠, 8♠]\n",
       " Card[A♠, 2♠, 3♠, 4♠, 9♠]\n",
       " Card[A♠, 2♠, 3♠, 4♠, T♠]\n",
       " Card[A♠, 2♠, 3♠, 4♠, J♠]\n",
       " Card[A♠, 2♠, 3♠, 4♠, Q♠]\n",
       " Card[A♠, 2♠, 3♠, 4♠, K♠]\n",
       " Card[A♠, 2♠, 3♠, 4♠, A♡]\n",
       " Card[A♠, 2♠, 3♠, 4♠, 2♡]\n",
       " ⋮\n",
       " Card[6♣, 8♣, 9♣, T♣, J♣]\n",
       " Card[6♣, 9♣, T♣, J♣, Q♣]\n",
       " Card[6♣, T♣, J♣, Q♣, K♣]\n",
       " Card[7♣, 8♣, 9♣, T♣, Q♣]\n",
       " Card[7♣, 8♣, 9♣, T♣, K♣]\n",
       " Card[7♣, 9♣, T♣, J♣, Q♣]\n",
       " Card[7♣, T♣, J♣, Q♣, K♣]\n",
       " Card[8♣, 9♣, T♣, J♣, K♣]\n",
       " Card[8♣, T♣, J♣, Q♣, K♣]"
      ]
     },
     "metadata": {},
     "output_type": "display_data"
    }
   ],
   "source": [
    "SmallStraightHands = []\n",
    "for comb in combinations(1:52, 5)\n",
    "    #@show Hand([Card(c) for c in comb])\n",
    "    h = [Card(c) for c in comb]\n",
    "    if isSmallStraight(Hand(h))\n",
    "        push!(SmallStraightHands, h)\n",
    "    end\n",
    "end\n",
    "SmallStraightHands"
   ]
  },
  {
   "cell_type": "markdown",
   "metadata": {},
   "source": [
    "Takes the newly created SmallStraightHands vector and reorders each individual Hand so that the Small Straight comes first and the extra cards is at the end. This standardizes that the unwanted card is the fifth Card in each Hand:"
   ]
  },
  {
   "cell_type": "code",
   "execution_count": 5,
   "metadata": {},
   "outputs": [
    {
     "data": {
      "text/plain": [
       "97792-element Vector{Any}:\n",
       " [A♠,2♠,3♠,4♠,6♠]\n",
       " [A♠,2♠,3♠,4♠,7♠]\n",
       " [A♠,2♠,3♠,4♠,8♠]\n",
       " [A♠,2♠,3♠,4♠,9♠]\n",
       " [A♠,2♠,3♠,4♠,T♠]\n",
       " [A♠,2♠,3♠,4♠,J♠]\n",
       " [A♠,2♠,3♠,4♠,Q♠]\n",
       " [A♠,2♠,3♠,4♠,K♠]\n",
       " [A♠,2♠,3♠,4♠,A♡]\n",
       " [A♠,2♠,3♠,4♠,2♡]\n",
       " ⋮\n",
       " [8♣,9♣,T♣,J♣,6♣]\n",
       " [9♣,T♣,J♣,Q♣,6♣]\n",
       " [T♣,J♣,Q♣,K♣,6♣]\n",
       " [7♣,8♣,9♣,T♣,Q♣]\n",
       " [7♣,8♣,9♣,T♣,K♣]\n",
       " [9♣,T♣,J♣,Q♣,7♣]\n",
       " [T♣,J♣,Q♣,K♣,7♣]\n",
       " [8♣,9♣,T♣,J♣,K♣]\n",
       " [T♣,J♣,Q♣,K♣,8♣]"
      ]
     },
     "metadata": {},
     "output_type": "display_data"
    }
   ],
   "source": [
    "Reordered = []\n",
    "i = 0\n",
    "for i in 1:length(SmallStraightHands)\n",
    "    local x = ReorderSmallStraight(Hand(SmallStraightHands[i]))\n",
    "    push!(Reordered, x)\n",
    "end\n",
    "Reordered"
   ]
  },
  {
   "cell_type": "markdown",
   "metadata": {},
   "source": [
    "Drawing a new card from the deck and adding it to the hand (no real need to do a discard). Using one Hand as an example:"
   ]
  },
  {
   "cell_type": "code",
   "execution_count": 6,
   "metadata": {},
   "outputs": [
    {
     "data": {
      "text/plain": [
       "47-element Vector{Any}:\n",
       " Card[A♠, 2♠, 3♠, 4♠, 6♠, 5♠]\n",
       " Card[A♠, 2♠, 3♠, 4♠, 6♠, 7♠]\n",
       " Card[A♠, 2♠, 3♠, 4♠, 6♠, 8♠]\n",
       " Card[A♠, 2♠, 3♠, 4♠, 6♠, 9♠]\n",
       " Card[A♠, 2♠, 3♠, 4♠, 6♠, T♠]\n",
       " Card[A♠, 2♠, 3♠, 4♠, 6♠, J♠]\n",
       " Card[A♠, 2♠, 3♠, 4♠, 6♠, Q♠]\n",
       " Card[A♠, 2♠, 3♠, 4♠, 6♠, K♠]\n",
       " Card[A♠, 2♠, 3♠, 4♠, 6♠, A♡]\n",
       " Card[A♠, 2♠, 3♠, 4♠, 6♠, 2♡]\n",
       " ⋮\n",
       " Card[A♠, 2♠, 3♠, 4♠, 6♠, 5♣]\n",
       " Card[A♠, 2♠, 3♠, 4♠, 6♠, 6♣]\n",
       " Card[A♠, 2♠, 3♠, 4♠, 6♠, 7♣]\n",
       " Card[A♠, 2♠, 3♠, 4♠, 6♠, 8♣]\n",
       " Card[A♠, 2♠, 3♠, 4♠, 6♠, 9♣]\n",
       " Card[A♠, 2♠, 3♠, 4♠, 6♠, T♣]\n",
       " Card[A♠, 2♠, 3♠, 4♠, 6♠, J♣]\n",
       " Card[A♠, 2♠, 3♠, 4♠, 6♠, Q♣]\n",
       " Card[A♠, 2♠, 3♠, 4♠, 6♠, K♣]"
      ]
     },
     "metadata": {},
     "output_type": "display_data"
    }
   ],
   "source": [
    "DrawingCard = []\n",
    "h = Reordered[1]\n",
    "count = 0\n",
    "for comb in combinations(1:52, 1)\n",
    "   Hand([Card(c) for c in comb])\n",
    "  c = [Card(c) for c in comb]\n",
    "  v = vcat(h.cards, c)\n",
    "  if length(unique(v)) == 6 #takes out any of the repeated cards already in the hand\n",
    "    push!(DrawingCard, v)\n",
    "  end\n",
    "end\n",
    "DrawingCard"
   ]
  },
  {
   "cell_type": "markdown",
   "metadata": {},
   "source": [
    "With all possible newly drawn cards, we can get a count of how many instances where this newly drawn card completes the Straight: \\\n",
    "(Makes since that it would be 3 because only a 5 could complete the Straight, and it can't be the same suit as the Small Straight cards or else it would be a Straight Flush)"
   ]
  },
  {
   "cell_type": "code",
   "execution_count": 7,
   "metadata": {},
   "outputs": [
    {
     "data": {
      "text/plain": [
       "3"
      ]
     },
     "metadata": {},
     "output_type": "display_data"
    }
   ],
   "source": [
    "count = 0\n",
    "for i in 1:length(DrawingCard)\n",
    "    if isStraight(Hand(DrawingCard[i]))\n",
    "        count += 1\n",
    "    end\n",
    "end\n",
    "count"
   ]
  },
  {
   "cell_type": "markdown",
   "metadata": {},
   "source": [
    "Second one Hand example:"
   ]
  },
  {
   "cell_type": "code",
   "execution_count": 8,
   "metadata": {},
   "outputs": [
    {
     "data": {
      "text/plain": [
       "47-element Vector{Any}:\n",
       " Card[8♣, 9♣, T♣, J♣, K♣, A♠]\n",
       " Card[8♣, 9♣, T♣, J♣, K♣, 2♠]\n",
       " Card[8♣, 9♣, T♣, J♣, K♣, 3♠]\n",
       " Card[8♣, 9♣, T♣, J♣, K♣, 4♠]\n",
       " Card[8♣, 9♣, T♣, J♣, K♣, 5♠]\n",
       " Card[8♣, 9♣, T♣, J♣, K♣, 6♠]\n",
       " Card[8♣, 9♣, T♣, J♣, K♣, 7♠]\n",
       " Card[8♣, 9♣, T♣, J♣, K♣, 8♠]\n",
       " Card[8♣, 9♣, T♣, J♣, K♣, 9♠]\n",
       " Card[8♣, 9♣, T♣, J♣, K♣, T♠]\n",
       " ⋮\n",
       " Card[8♣, 9♣, T♣, J♣, K♣, K♢]\n",
       " Card[8♣, 9♣, T♣, J♣, K♣, A♣]\n",
       " Card[8♣, 9♣, T♣, J♣, K♣, 2♣]\n",
       " Card[8♣, 9♣, T♣, J♣, K♣, 3♣]\n",
       " Card[8♣, 9♣, T♣, J♣, K♣, 4♣]\n",
       " Card[8♣, 9♣, T♣, J♣, K♣, 5♣]\n",
       " Card[8♣, 9♣, T♣, J♣, K♣, 6♣]\n",
       " Card[8♣, 9♣, T♣, J♣, K♣, 7♣]\n",
       " Card[8♣, 9♣, T♣, J♣, K♣, Q♣]"
      ]
     },
     "metadata": {},
     "output_type": "display_data"
    }
   ],
   "source": [
    "DrawingCard2 = []\n",
    "h = Reordered[97791]\n",
    "count = 0\n",
    "for comb in combinations(1:52, 1)\n",
    "   Hand([Card(c) for c in comb])\n",
    "  c = [Card(c) for c in comb]\n",
    "  v = vcat(h.cards, c)\n",
    "  if length(unique(v)) == 6 #takes out any of the repeated cards already in the hand\n",
    "    push!(DrawingCard2, v)\n",
    "  end\n",
    "  #count += 1\n",
    "  #count >= 100 && break\n",
    "end\n",
    "#count\n",
    "DrawingCard2"
   ]
  },
  {
   "cell_type": "markdown",
   "metadata": {},
   "source": [
    "6 instances makes since a 7 or Q would finish the Straight, but they must be a different suit then the rest of the Straight:"
   ]
  },
  {
   "cell_type": "code",
   "execution_count": 9,
   "metadata": {},
   "outputs": [
    {
     "data": {
      "text/plain": [
       "6"
      ]
     },
     "metadata": {},
     "output_type": "display_data"
    }
   ],
   "source": [
    "count = 0\n",
    "for i in 1:length(DrawingCard2)\n",
    "    if isStraight(Hand(DrawingCard2[i]))\n",
    "        count += 1\n",
    "    end\n",
    "end\n",
    "count"
   ]
  },
  {
   "cell_type": "markdown",
   "metadata": {},
   "source": [
    "Random Hand from the Reordered Small Straights:"
   ]
  },
  {
   "cell_type": "code",
   "execution_count": 10,
   "metadata": {},
   "outputs": [
    {
     "data": {
      "text/plain": [
       "[2♠,3♢,5♢,4♣,Q♡]"
      ]
     },
     "metadata": {},
     "output_type": "display_data"
    }
   ],
   "source": [
    "h = Reordered[12492]\n",
    "# isSmallStraight(h)\n",
    "# isStraight(h)"
   ]
  },
  {
   "cell_type": "code",
   "execution_count": 11,
   "metadata": {},
   "outputs": [
    {
     "data": {
      "text/plain": [
       "47-element Vector{Any}:\n",
       " Card[2♠, 3♢, 5♢, 4♣, Q♡, A♠]\n",
       " Card[2♠, 3♢, 5♢, 4♣, Q♡, 3♠]\n",
       " Card[2♠, 3♢, 5♢, 4♣, Q♡, 4♠]\n",
       " Card[2♠, 3♢, 5♢, 4♣, Q♡, 5♠]\n",
       " Card[2♠, 3♢, 5♢, 4♣, Q♡, 6♠]\n",
       " Card[2♠, 3♢, 5♢, 4♣, Q♡, 7♠]\n",
       " Card[2♠, 3♢, 5♢, 4♣, Q♡, 8♠]\n",
       " Card[2♠, 3♢, 5♢, 4♣, Q♡, 9♠]\n",
       " Card[2♠, 3♢, 5♢, 4♣, Q♡, T♠]\n",
       " Card[2♠, 3♢, 5♢, 4♣, Q♡, J♠]\n",
       " ⋮\n",
       " Card[2♠, 3♢, 5♢, 4♣, Q♡, 5♣]\n",
       " Card[2♠, 3♢, 5♢, 4♣, Q♡, 6♣]\n",
       " Card[2♠, 3♢, 5♢, 4♣, Q♡, 7♣]\n",
       " Card[2♠, 3♢, 5♢, 4♣, Q♡, 8♣]\n",
       " Card[2♠, 3♢, 5♢, 4♣, Q♡, 9♣]\n",
       " Card[2♠, 3♢, 5♢, 4♣, Q♡, T♣]\n",
       " Card[2♠, 3♢, 5♢, 4♣, Q♡, J♣]\n",
       " Card[2♠, 3♢, 5♢, 4♣, Q♡, Q♣]\n",
       " Card[2♠, 3♢, 5♢, 4♣, Q♡, K♣]"
      ]
     },
     "metadata": {},
     "output_type": "display_data"
    }
   ],
   "source": [
    "DrawingCard3 = []\n",
    "h = Reordered[12492]\n",
    "count = 0\n",
    "for comb in combinations(1:52, 1)\n",
    "  c = [Card(c) for c in comb]\n",
    "  v = vcat(h.cards, c)\n",
    "  if length(unique(v)) == 6 #takes out any of the repeated cards already in the hand\n",
    "    push!(DrawingCard3, v)\n",
    "  end\n",
    "  #count += 1\n",
    "  #count >= 100 && break\n",
    "end\n",
    "#count\n",
    "DrawingCard3"
   ]
  },
  {
   "cell_type": "markdown",
   "metadata": {},
   "source": [
    "8 makes sense. The Small Straight already has a variety of suits, and both A and 6 would complete the Straight."
   ]
  },
  {
   "cell_type": "code",
   "execution_count": 12,
   "metadata": {},
   "outputs": [
    {
     "data": {
      "text/plain": [
       "8"
      ]
     },
     "metadata": {},
     "output_type": "display_data"
    }
   ],
   "source": [
    "count = 0\n",
    "for i in 1:length(DrawingCard3)\n",
    "    if isStraight(Hand(DrawingCard3[i]))\n",
    "        count += 1\n",
    "    end\n",
    "end\n",
    "count"
   ]
  },
  {
   "cell_type": "markdown",
   "metadata": {},
   "source": [
    "Now taking the counts of all potential Straights from our Small Straights after drawing one card:"
   ]
  },
  {
   "cell_type": "code",
   "execution_count": 13,
   "metadata": {},
   "outputs": [
    {
     "data": {
      "text/plain": [
       "97792-element Vector{Any}:\n",
       " 3\n",
       " 3\n",
       " 3\n",
       " 3\n",
       " 3\n",
       " 3\n",
       " 3\n",
       " 3\n",
       " 3\n",
       " 3\n",
       " ⋮\n",
       " 6\n",
       " 6\n",
       " 3\n",
       " 6\n",
       " 6\n",
       " 6\n",
       " 3\n",
       " 6\n",
       " 3"
      ]
     },
     "metadata": {},
     "output_type": "display_data"
    }
   ],
   "source": [
    "i = 0\n",
    "count = 0\n",
    "counts = []\n",
    "for i in 1:length(Reordered)\n",
    "    h = Reordered[i]\n",
    "    for comb in combinations(1:52, 1)\n",
    "    c = [Card(c) for c in comb]\n",
    "    v = vcat(h.cards, c)\n",
    "    if length(unique(v)) == 6 #takes out any of the repeated cards already in the hand\n",
    "        if isStraight(Hand(v))\n",
    "            count += 1\n",
    "        end\n",
    "    end\n",
    "    end\n",
    "    push!(counts, count)\n",
    "    count = 0\n",
    "end\n",
    "#count\n",
    "counts"
   ]
  },
  {
   "cell_type": "code",
   "execution_count": 14,
   "metadata": {},
   "outputs": [
    {
     "data": {
      "text/plain": [
       "4-element Vector{Any}:\n",
       " 3\n",
       " 4\n",
       " 6\n",
       " 8"
      ]
     },
     "metadata": {},
     "output_type": "display_data"
    }
   ],
   "source": [
    "unique(counts)"
   ]
  },
  {
   "cell_type": "code",
   "execution_count": 15,
   "metadata": {},
   "outputs": [
    {
     "data": {
      "text/plain": [
       "4-element Vector{Float64}:\n",
       " 0.06382978723404255\n",
       " 0.0851063829787234\n",
       " 0.1276595744680851\n",
       " 0.1702127659574468"
      ]
     },
     "metadata": {},
     "output_type": "display_data"
    }
   ],
   "source": [
    "prob = map(x-> x/47, counts)\n",
    "unique(prob)"
   ]
  },
  {
   "cell_type": "code",
   "execution_count": 16,
   "metadata": {},
   "outputs": [
    {
     "data": {
      "text/plain": [
       "0.14539500250640525"
      ]
     },
     "metadata": {},
     "output_type": "display_data"
    }
   ],
   "source": [
    "mean(prob)"
   ]
  }
 ],
 "metadata": {
  "kernelspec": {
   "display_name": "Julia 1.10.5",
   "language": "julia",
   "name": "julia-1.10"
  },
  "language_info": {
   "file_extension": ".jl",
   "mimetype": "application/julia",
   "name": "julia",
   "version": "1.10.5"
  }
 },
 "nbformat": 4,
 "nbformat_minor": 2
}
